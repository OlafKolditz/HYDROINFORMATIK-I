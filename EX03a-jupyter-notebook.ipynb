{
 "cells": [
  {
   "cell_type": "markdown",
   "metadata": {},
   "source": [
    "<!--- ![tu-dresden-blue.png](attachment:tu-dresden-blue.png) --->\n",
    "<img src=\"tu-dresden-blue.png\" alt=\"drawing\" width=\"200\"/>"
   ]
  },
  {
   "cell_type": "markdown",
   "metadata": {},
   "source": [
    "Professur für Angewandte Umweltsystemanalyse an der TU Dresden <br/>\n",
    "Prof. Dr.-Ing. habil. Olaf Kolditz <br/>\n",
    "***Hydroinformatik I (HyBHW-1-01)*** <br/>\n",
    "*[Lehre-Webseite](https://www.ufz.de/index.php?de=40416)*"
   ]
  },
  {
   "cell_type": "markdown",
   "metadata": {},
   "source": [
    "***Exercise 1a - Strg Enter*** <br/>"
   ]
  },
  {
   "cell_type": "markdown",
   "metadata": {},
   "source": [
    "---\n",
    "***Exercise 1b - Writing Text*** <br/>\n",
    "Formating <br/>\n",
    "- Lists\n",
    "- Line break\n",
    "- *Italic*\n",
    "- **Bold**\n",
    "- ***Bold italic***\n",
    "- ### Headings\n",
    "- Links: [Lehre-Webseite](https://www.ufz.de/index.php?de=40416)\n",
    "- Images (see above)\n",
    "---"
   ]
  },
  {
   "cell_type": "markdown",
   "metadata": {},
   "source": [
    "***Exercise 1c - Writing Formulas (TeX)*** <br/>\n",
    "Wir verwenden TeX für das Schreiben von Formeln, z.B. $y = ax^2 + bx + c$ oder $\\dot{y} = k (y_\\text{eq} - y)$."
   ]
  }
 ],
 "metadata": {
  "kernelspec": {
   "display_name": "Python 2",
   "language": "python",
   "name": "python2"
  },
  "language_info": {
   "codemirror_mode": {
    "name": "ipython",
    "version": 2
   },
   "file_extension": ".py",
   "mimetype": "text/x-python",
   "name": "python",
   "nbconvert_exporter": "python",
   "pygments_lexer": "ipython2",
   "version": "2.7.17"
  }
 },
 "nbformat": 4,
 "nbformat_minor": 2
}
